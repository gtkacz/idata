{
 "cells": [
  {
   "cell_type": "code",
   "execution_count": 1,
   "metadata": {},
   "outputs": [],
   "source": [
    "import pandas as pd\n",
    "import matplotlib.pyplot as plt"
   ]
  },
  {
   "cell_type": "code",
   "execution_count": 2,
   "metadata": {},
   "outputs": [],
   "source": [
    "earnings=pd.read_csv('./bases/earnings_female.csv')\n",
    "employed=pd.read_csv('./bases/employed_gender.csv')\n",
    "jobs=pd.read_csv('./bases/jobs_gender.csv')"
   ]
  },
  {
   "cell_type": "code",
   "execution_count": 30,
   "metadata": {},
   "outputs": [
    {
     "name": "stdout",
     "output_type": "stream",
     "text": [
      "1979 [{'Total, 16 years and older': 62.3}, {'16-19 years': 85.2}, {'20-24 years': 76.3}, {'25-34 years': 67.5}, {'35-44 years': 58.3}, {'45-54 years': 56.8}, {'55-64 years': 60.6}, {'65 years and older': 77.6}]\n",
      "\n",
      "1980 [{'Total, 16 years and older': 64.2}, {'16-19 years': 89.5}, {'20-24 years': 78.1}, {'25-34 years': 69.4}, {'35-44 years': 58.3}, {'45-54 years': 56.9}, {'55-64 years': 59.4}, {'65 years and older': 76.4}]\n",
      "\n",
      "1981 [{'Total, 16 years and older': 64.4}, {'16-19 years': 91.7}, {'20-24 years': 80.6}, {'25-34 years': 70.3}, {'35-44 years': 59.9}, {'45-54 years': 56.8}, {'55-64 years': 58.9}, {'65 years and older': 71.1}]\n",
      "\n",
      "1982 [{'Total, 16 years and older': 65.7}, {'16-19 years': 92.9}, {'20-24 years': 82.4}, {'25-34 years': 72.1}, {'35-44 years': 61.1}, {'45-54 years': 60.1}, {'55-64 years': 61.4}, {'65 years and older': 70.3}]\n",
      "\n",
      "1983 [{'Total, 16 years and older': 66.5}, {'16-19 years': 94.0}, {'20-24 years': 85.5}, {'25-34 years': 73.3}, {'35-44 years': 61.5}, {'45-54 years': 59.5}, {'55-64 years': 61.8}, {'65 years and older': 68.8}]\n",
      "\n",
      "1984 [{'Total, 16 years and older': 67.6}, {'16-19 years': 93.1}, {'20-24 years': 85.2}, {'25-34 years': 74.6}, {'35-44 years': 62.0}, {'45-54 years': 59.4}, {'55-64 years': 61.5}, {'65 years and older': 66.8}]\n",
      "\n",
      "1985 [{'Total, 16 years and older': 68.1}, {'16-19 years': 90.7}, {'20-24 years': 85.7}, {'25-34 years': 75.1}, {'35-44 years': 63.0}, {'45-54 years': 59.7}, {'55-64 years': 61.0}, {'65 years and older': 65.9}]\n",
      "\n",
      "1986 [{'Total, 16 years and older': 69.5}, {'16-19 years': 91.4}, {'20-24 years': 87.5}, {'25-34 years': 76.1}, {'35-44 years': 63.9}, {'45-54 years': 60.9}, {'55-64 years': 61.2}, {'65 years and older': 71.5}]\n",
      "\n",
      "1987 [{'Total, 16 years and older': 69.8}, {'16-19 years': 87.8}, {'20-24 years': 88.0}, {'25-34 years': 76.7}, {'35-44 years': 66.1}, {'45-54 years': 62.3}, {'55-64 years': 62.2}, {'65 years and older': 68.7}]\n",
      "\n",
      "1988 [{'Total, 16 years and older': 70.2}, {'16-19 years': 89.8}, {'20-24 years': 90.0}, {'25-34 years': 77.7}, {'35-44 years': 68.5}, {'45-54 years': 61.7}, {'55-64 years': 62.3}, {'65 years and older': 70.9}]\n",
      "\n",
      "1989 [{'Total, 16 years and older': 70.1}, {'16-19 years': 94.3}, {'20-24 years': 89.7}, {'25-34 years': 78.3}, {'35-44 years': 68.3}, {'45-54 years': 62.7}, {'55-64 years': 63.9}, {'65 years and older': 74.3}]\n",
      "\n",
      "1990 [{'Total, 16 years and older': 71.9}, {'16-19 years': 90.8}, {'20-24 years': 90.3}, {'25-34 years': 79.3}, {'35-44 years': 69.6}, {'45-54 years': 63.8}, {'55-64 years': 63.7}, {'65 years and older': 74.4}]\n",
      "\n",
      "1991 [{'Total, 16 years and older': 74.2}, {'16-19 years': 93.6}, {'20-24 years': 93.3}, {'25-34 years': 81.0}, {'35-44 years': 70.7}, {'45-54 years': 65.0}, {'55-64 years': 64.5}, {'65 years and older': 68.3}]\n",
      "\n",
      "1992 [{'Total, 16 years and older': 75.8}, {'16-19 years': 94.0}, {'20-24 years': 94.3}, {'25-34 years': 82.0}, {'35-44 years': 71.9}, {'45-54 years': 65.8}, {'55-64 years': 64.9}, {'65 years and older': 77.9}]\n",
      "\n",
      "1993 [{'Total, 16 years and older': 77.1}, {'16-19 years': 92.8}, {'20-24 years': 95.4}, {'25-34 years': 83.0}, {'35-44 years': 73.0}, {'45-54 years': 67.4}, {'55-64 years': 67.4}, {'65 years and older': 74.3}]\n",
      "\n",
      "1994 [{'Total, 16 years and older': 76.4}, {'16-19 years': 92.5}, {'20-24 years': 94.5}, {'25-34 years': 82.9}, {'35-44 years': 72.6}, {'45-54 years': 67.1}, {'55-64 years': 66.0}, {'65 years and older': 76.2}]\n",
      "\n",
      "1995 [{'Total, 16 years and older': 75.5}, {'16-19 years': 88.1}, {'20-24 years': 92.4}, {'25-34 years': 82.2}, {'35-44 years': 72.6}, {'45-54 years': 67.7}, {'55-64 years': 64.7}, {'65 years and older': 80.0}]\n",
      "\n",
      "1996 [{'Total, 16 years and older': 75.0}, {'16-19 years': 88.8}, {'20-24 years': 92.8}, {'25-34 years': 83.2}, {'35-44 years': 73.3}, {'45-54 years': 68.9}, {'55-64 years': 65.3}, {'65 years and older': 70.0}]\n",
      "\n",
      "1997 [{'Total, 16 years and older': 74.4}, {'16-19 years': 91.6}, {'20-24 years': 90.5}, {'25-34 years': 82.9}, {'35-44 years': 74.0}, {'45-54 years': 69.4}, {'55-64 years': 64.7}, {'65 years and older': 77.0}]\n",
      "\n",
      "1998 [{'Total, 16 years and older': 76.3}, {'16-19 years': 88.6}, {'20-24 years': 89.4}, {'25-34 years': 82.9}, {'35-44 years': 73.6}, {'45-54 years': 70.5}, {'55-64 years': 68.1}, {'65 years and older': 72.6}]\n",
      "\n",
      "1999 [{'Total, 16 years and older': 76.5}, {'16-19 years': 91.4}, {'20-24 years': 90.5}, {'25-34 years': 81.5}, {'35-44 years': 71.7}, {'45-54 years': 70.0}, {'55-64 years': 67.9}, {'65 years and older': 78.7}]\n",
      "\n",
      "2000 [{'Total, 16 years and older': 76.9}, {'16-19 years': 92.5}, {'20-24 years': 92.7}, {'25-34 years': 82.4}, {'35-44 years': 71.6}, {'45-54 years': 73.2}, {'55-64 years': 69.1}, {'65 years and older': 75.1}]\n",
      "\n",
      "2001 [{'Total, 16 years and older': 76.4}, {'16-19 years': 90.3}, {'20-24 years': 91.9}, {'25-34 years': 83.0}, {'35-44 years': 72.5}, {'45-54 years': 73.5}, {'55-64 years': 70.5}, {'65 years and older': 69.0}]\n",
      "\n",
      "2002 [{'Total, 16 years and older': 77.9}, {'16-19 years': 94.6}, {'20-24 years': 93.9}, {'25-34 years': 84.5}, {'35-44 years': 75.2}, {'45-54 years': 74.6}, {'55-64 years': 71.6}, {'65 years and older': 73.8}]\n",
      "\n",
      "2003 [{'Total, 16 years and older': 79.4}, {'16-19 years': 93.1}, {'20-24 years': 93.9}, {'25-34 years': 86.9}, {'35-44 years': 76.1}, {'45-54 years': 73.0}, {'55-64 years': 72.7}, {'65 years and older': 71.1}]\n",
      "\n",
      "2004 [{'Total, 16 years and older': 80.4}, {'16-19 years': 92.1}, {'20-24 years': 93.8}, {'25-34 years': 87.8}, {'35-44 years': 75.6}, {'45-54 years': 72.9}, {'55-64 years': 73.0}, {'65 years and older': 74.6}]\n",
      "\n",
      "2005 [{'Total, 16 years and older': 81.0}, {'16-19 years': 92.1}, {'20-24 years': 93.8}, {'25-34 years': 89.0}, {'35-44 years': 75.5}, {'45-54 years': 75.5}, {'55-64 years': 74.7}, {'65 years and older': 76.4}]\n",
      "\n",
      "2006 [{'Total, 16 years and older': 80.8}, {'16-19 years': 87.6}, {'20-24 years': 94.9}, {'25-34 years': 88.2}, {'35-44 years': 77.2}, {'45-54 years': 73.5}, {'55-64 years': 72.9}, {'65 years and older': 77.5}]\n",
      "\n",
      "2007 [{'Total, 16 years and older': 80.2}, {'16-19 years': 89.1}, {'20-24 years': 90.3}, {'25-34 years': 86.9}, {'35-44 years': 76.5}, {'45-54 years': 74.5}, {'55-64 years': 72.8}, {'65 years and older': 77.8}]\n",
      "\n",
      "2008 [{'Total, 16 years and older': 79.9}, {'16-19 years': 87.3}, {'20-24 years': 92.5}, {'25-34 years': 88.5}, {'35-44 years': 74.5}, {'45-54 years': 74.9}, {'55-64 years': 75.4}, {'65 years and older': 74.8}]\n",
      "\n",
      "2009 [{'Total, 16 years and older': 80.2}, {'16-19 years': 90.7}, {'20-24 years': 92.9}, {'25-34 years': 88.7}, {'35-44 years': 77.4}, {'45-54 years': 73.6}, {'55-64 years': 75.3}, {'65 years and older': 76.1}]\n",
      "\n",
      "2010 [{'Total, 16 years and older': 81.2}, {'16-19 years': 94.6}, {'20-24 years': 93.8}, {'25-34 years': 90.8}, {'35-44 years': 79.9}, {'45-54 years': 76.5}, {'55-64 years': 75.2}, {'65 years and older': 75.7}]\n",
      "\n",
      "2011 [{'Total, 16 years and older': 82.2}, {'16-19 years': 88.6}, {'20-24 years': 93.2}, {'25-34 years': 92.3}, {'35-44 years': 78.5}, {'45-54 years': 76.0}, {'55-64 years': 75.1}, {'65 years and older': 80.9}]\n",
      "\n"
     ]
    },
    {
     "ename": "TypeError",
     "evalue": "int() argument must be a string, a bytes-like object or a number, not 'list'",
     "output_type": "error",
     "traceback": [
      "\u001b[1;31m---------------------------------------------------------------------------\u001b[0m",
      "\u001b[1;31mTypeError\u001b[0m                                 Traceback (most recent call last)",
      "\u001b[1;32m<ipython-input-30-cbbd87f8d5ec>\u001b[0m in \u001b[0;36m<module>\u001b[1;34m\u001b[0m\n\u001b[0;32m     17\u001b[0m         \u001b[1;31m#print(i, float(list(j[x].values())[0]), str(list(j[x].keys())[0]))'''\u001b[0m\u001b[1;33m\u001b[0m\u001b[1;33m\u001b[0m\u001b[1;33m\u001b[0m\u001b[0m\n\u001b[0;32m     18\u001b[0m \u001b[1;33m\u001b[0m\u001b[0m\n\u001b[1;32m---> 19\u001b[1;33m \u001b[0mplt\u001b[0m\u001b[1;33m.\u001b[0m\u001b[0mplot\u001b[0m\u001b[1;33m(\u001b[0m\u001b[0mint\u001b[0m\u001b[1;33m(\u001b[0m\u001b[0mlist\u001b[0m\u001b[1;33m(\u001b[0m\u001b[0mearnings_dict\u001b[0m\u001b[1;33m.\u001b[0m\u001b[0mvalues\u001b[0m\u001b[1;33m(\u001b[0m\u001b[1;33m)\u001b[0m\u001b[1;33m)\u001b[0m\u001b[1;33m[\u001b[0m\u001b[1;36m0\u001b[0m\u001b[1;33m]\u001b[0m\u001b[1;33m)\u001b[0m\u001b[1;33m,\u001b[0m \u001b[0mlist\u001b[0m\u001b[1;33m(\u001b[0m\u001b[0mearnings_dict\u001b[0m\u001b[1;33m.\u001b[0m\u001b[0mkeys\u001b[0m\u001b[1;33m(\u001b[0m\u001b[1;33m)\u001b[0m\u001b[1;33m)\u001b[0m\u001b[1;33m[\u001b[0m\u001b[1;36m0\u001b[0m\u001b[1;33m]\u001b[0m\u001b[1;33m)\u001b[0m\u001b[1;33m\u001b[0m\u001b[1;33m\u001b[0m\u001b[0m\n\u001b[0m\u001b[0;32m     20\u001b[0m \u001b[0mplt\u001b[0m\u001b[1;33m.\u001b[0m\u001b[0mgrid\u001b[0m\u001b[1;33m(\u001b[0m\u001b[1;32mTrue\u001b[0m\u001b[1;33m)\u001b[0m\u001b[1;33m\u001b[0m\u001b[1;33m\u001b[0m\u001b[0m\n\u001b[0;32m     21\u001b[0m \u001b[0mplt\u001b[0m\u001b[1;33m.\u001b[0m\u001b[0mlegend\u001b[0m\u001b[1;33m(\u001b[0m\u001b[1;33m)\u001b[0m\u001b[1;33m\u001b[0m\u001b[1;33m\u001b[0m\u001b[0m\n",
      "\u001b[1;31mTypeError\u001b[0m: int() argument must be a string, a bytes-like object or a number, not 'list'"
     ]
    }
   ],
   "source": [
    "earnings_dict={}\n",
    "\n",
    "for index, row in earnings.iterrows():\n",
    "    if row['Year'] not in earnings_dict:\n",
    "        earnings_dict[row['Year']]=[{row['group']:row['percent']}]\n",
    "    else:\n",
    "        earnings_dict[row['Year']].append({row['group']:row['percent']})\n",
    "\n",
    "#print(earnings_dict)\n",
    "for i, j in earnings_dict.items():\n",
    "    print(i, j)\n",
    "    print(\"\")\n",
    "\n",
    "'''for i, j in earnings_dict.items():\n",
    "    for x in range(len(j)):\n",
    "        plt.plot(i, float(list(j[x].values())[0][0]))\n",
    "        #print(i, float(list(j[x].values())[0]), str(list(j[x].keys())[0]))'''\n",
    "\n",
    "plt.plot(int(list(earnings_dict.values())[0]), list(earnings_dict.keys())[0])\n",
    "plt.grid(True)\n",
    "plt.legend()\n",
    "plt.xlabel(\"Ano\")\n",
    "plt.ylabel(\"Salário do sexo feminino como porcentagem do salário do sexo masculino (%)\")\n",
    "plt.show()"
   ]
  },
  {
   "cell_type": "code",
   "execution_count": null,
   "metadata": {},
   "outputs": [],
   "source": [
    "employed_dict={}\n",
    "\n",
    "for index, row in employed.iterrows():"
   ]
  },
  {
   "cell_type": "code",
   "execution_count": null,
   "metadata": {},
   "outputs": [],
   "source": []
  }
 ],
 "metadata": {
  "kernelspec": {
   "display_name": "Python 3",
   "language": "python",
   "name": "python3"
  },
  "language_info": {
   "codemirror_mode": {
    "name": "ipython",
    "version": 3
   },
   "file_extension": ".py",
   "mimetype": "text/x-python",
   "name": "python",
   "nbconvert_exporter": "python",
   "pygments_lexer": "ipython3",
   "version": "3.8.5"
  }
 },
 "nbformat": 4,
 "nbformat_minor": 4
}
